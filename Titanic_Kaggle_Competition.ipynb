{
 "cells": [
  {
   "cell_type": "markdown",
   "metadata": {},
   "source": [
    "# Predicting the survival of passengers on the Titanic using random forest machine learning models. \n",
    "### (Also did some unnecessary data imputation and feature engineering)\n",
    "\n",
    "  - The goal of this project is to predict which passengers on the Titanic will survive based on pre-boarding characteristics\n",
    "  - While the data is mostly clean, regression imputation and a little feature engineering will be necessary to get the most out of the data\n",
    "  - The features include socioeconomic markers such as passenger class and the ticket fare, as well as biological features such as sex, age, and child companions\n",
    "  - Under the circumstances of a sinking ship with limited life boats, these social factors would result in a bias in terms of survivability relative to a random selection of passengers\n",
    "  - The training set will consist of 1/3 of the data. The test set will consist of the remaining 2/3.\n",
    "  - Dataset from the classic kaggle competition https://www.kaggle.com/c/titanic/data\n"
   ]
  },
  {
   "cell_type": "markdown",
   "metadata": {},
   "source": [
    "# Table of Contents\n",
    "1. Data Exploration\n",
    "    1. Checking data types\n",
    "    2. Correllation coefficient heatmap\n",
    "    3. Correllation coefficient barplot\n",
    "    4. Handling null values\n",
    "2. Linear Regression Imputation\n",
    "3. K-Nearest Neighbors Imputation"
   ]
  },
  {
   "cell_type": "code",
   "execution_count": 2279,
   "metadata": {},
   "outputs": [],
   "source": [
    "import pandas as pd\n",
    "import numpy as np\n",
    "import matplotlib.pyplot as plt\n",
    "import seaborn as sns\n",
    "from os import chdir\n",
    "from sklearn.linear_model import LogisticRegression\n",
    "from sklearn.ensemble import RandomForestClassifier\n",
    "from sklearn.metrics import roc_auc_score # for checking error of the model"
   ]
  },
  {
   "cell_type": "markdown",
   "metadata": {},
   "source": [
    "## Data exploration\n",
    "- Loading and exploring the data sets to determine if any data cleaning is necessary, or if any useful additional features can be created from the dataset"
   ]
  },
  {
   "cell_type": "code",
   "execution_count": 2280,
   "metadata": {},
   "outputs": [
    {
     "name": "stdout",
     "output_type": "stream",
     "text": [
      "(418, 11) (891, 12) (418, 2)\n"
     ]
    }
   ],
   "source": [
    "chdir('C:\\\\Data_files')\n",
    "test= pd.read_csv('titanic_test.csv')\n",
    "train = pd.read_csv('titanic_train.csv')\n",
    "base_train = train.copy()\n",
    "base_test = test.copy()\n",
    "X = train.copy()\n",
    "y = test.copy()\n",
    "print(test.shape, train.shape, gender.shape)"
   ]
  },
  {
   "cell_type": "code",
   "execution_count": 2281,
   "metadata": {},
   "outputs": [
    {
     "data": {
      "text/plain": [
       "0       892\n",
       "1       893\n",
       "2       894\n",
       "3       895\n",
       "4       896\n",
       "       ... \n",
       "413    1305\n",
       "414    1306\n",
       "415    1307\n",
       "416    1308\n",
       "417    1309\n",
       "Name: PassengerId, Length: 418, dtype: int64"
      ]
     },
     "execution_count": 2281,
     "metadata": {},
     "output_type": "execute_result"
    }
   ],
   "source": [
    "base_test.PassengerId"
   ]
  },
  {
   "cell_type": "code",
   "execution_count": 2282,
   "metadata": {},
   "outputs": [
    {
     "data": {
      "text/html": [
       "<div>\n",
       "<style scoped>\n",
       "    .dataframe tbody tr th:only-of-type {\n",
       "        vertical-align: middle;\n",
       "    }\n",
       "\n",
       "    .dataframe tbody tr th {\n",
       "        vertical-align: top;\n",
       "    }\n",
       "\n",
       "    .dataframe thead th {\n",
       "        text-align: right;\n",
       "    }\n",
       "</style>\n",
       "<table border=\"1\" class=\"dataframe\">\n",
       "  <thead>\n",
       "    <tr style=\"text-align: right;\">\n",
       "      <th></th>\n",
       "      <th>PassengerId</th>\n",
       "      <th>Survived</th>\n",
       "      <th>Pclass</th>\n",
       "      <th>Name</th>\n",
       "      <th>Sex</th>\n",
       "      <th>Age</th>\n",
       "      <th>SibSp</th>\n",
       "      <th>Parch</th>\n",
       "      <th>Ticket</th>\n",
       "      <th>Fare</th>\n",
       "      <th>Cabin</th>\n",
       "      <th>Embarked</th>\n",
       "    </tr>\n",
       "  </thead>\n",
       "  <tbody>\n",
       "    <tr>\n",
       "      <th>86</th>\n",
       "      <td>87</td>\n",
       "      <td>0</td>\n",
       "      <td>3</td>\n",
       "      <td>Ford, Mr. William Neal</td>\n",
       "      <td>male</td>\n",
       "      <td>16.00</td>\n",
       "      <td>1</td>\n",
       "      <td>3</td>\n",
       "      <td>W./C. 6608</td>\n",
       "      <td>34.3750</td>\n",
       "      <td>NaN</td>\n",
       "      <td>S</td>\n",
       "    </tr>\n",
       "    <tr>\n",
       "      <th>28</th>\n",
       "      <td>29</td>\n",
       "      <td>1</td>\n",
       "      <td>3</td>\n",
       "      <td>O'Dwyer, Miss. Ellen \"Nellie\"</td>\n",
       "      <td>female</td>\n",
       "      <td>NaN</td>\n",
       "      <td>0</td>\n",
       "      <td>0</td>\n",
       "      <td>330959</td>\n",
       "      <td>7.8792</td>\n",
       "      <td>NaN</td>\n",
       "      <td>Q</td>\n",
       "    </tr>\n",
       "    <tr>\n",
       "      <th>305</th>\n",
       "      <td>306</td>\n",
       "      <td>1</td>\n",
       "      <td>1</td>\n",
       "      <td>Allison, Master. Hudson Trevor</td>\n",
       "      <td>male</td>\n",
       "      <td>0.92</td>\n",
       "      <td>1</td>\n",
       "      <td>2</td>\n",
       "      <td>113781</td>\n",
       "      <td>151.5500</td>\n",
       "      <td>C22 C26</td>\n",
       "      <td>S</td>\n",
       "    </tr>\n",
       "  </tbody>\n",
       "</table>\n",
       "</div>"
      ],
      "text/plain": [
       "     PassengerId  Survived  Pclass                            Name     Sex  \\\n",
       "86            87         0       3          Ford, Mr. William Neal    male   \n",
       "28            29         1       3   O'Dwyer, Miss. Ellen \"Nellie\"  female   \n",
       "305          306         1       1  Allison, Master. Hudson Trevor    male   \n",
       "\n",
       "       Age  SibSp  Parch      Ticket      Fare    Cabin Embarked  \n",
       "86   16.00      1      3  W./C. 6608   34.3750      NaN        S  \n",
       "28     NaN      0      0      330959    7.8792      NaN        Q  \n",
       "305   0.92      1      2      113781  151.5500  C22 C26        S  "
      ]
     },
     "execution_count": 2282,
     "metadata": {},
     "output_type": "execute_result"
    }
   ],
   "source": [
    "# Randomly sorting the Xing data to avoid position bias\n",
    "X = X.sample(frac=1)\n",
    "X.head(3)"
   ]
  },
  {
   "cell_type": "code",
   "execution_count": 2283,
   "metadata": {},
   "outputs": [
    {
     "data": {
      "text/html": [
       "<div>\n",
       "<style scoped>\n",
       "    .dataframe tbody tr th:only-of-type {\n",
       "        vertical-align: middle;\n",
       "    }\n",
       "\n",
       "    .dataframe tbody tr th {\n",
       "        vertical-align: top;\n",
       "    }\n",
       "\n",
       "    .dataframe thead th {\n",
       "        text-align: right;\n",
       "    }\n",
       "</style>\n",
       "<table border=\"1\" class=\"dataframe\">\n",
       "  <thead>\n",
       "    <tr style=\"text-align: right;\">\n",
       "      <th></th>\n",
       "      <th>PassengerId</th>\n",
       "      <th>Survived</th>\n",
       "      <th>Pclass</th>\n",
       "      <th>Age</th>\n",
       "      <th>SibSp</th>\n",
       "      <th>Parch</th>\n",
       "      <th>Fare</th>\n",
       "    </tr>\n",
       "  </thead>\n",
       "  <tbody>\n",
       "    <tr>\n",
       "      <th>count</th>\n",
       "      <td>891.000000</td>\n",
       "      <td>891.000000</td>\n",
       "      <td>891.000000</td>\n",
       "      <td>714.000000</td>\n",
       "      <td>891.000000</td>\n",
       "      <td>891.000000</td>\n",
       "      <td>891.000000</td>\n",
       "    </tr>\n",
       "    <tr>\n",
       "      <th>mean</th>\n",
       "      <td>446.000000</td>\n",
       "      <td>0.383838</td>\n",
       "      <td>2.308642</td>\n",
       "      <td>29.699118</td>\n",
       "      <td>0.523008</td>\n",
       "      <td>0.381594</td>\n",
       "      <td>32.204208</td>\n",
       "    </tr>\n",
       "    <tr>\n",
       "      <th>std</th>\n",
       "      <td>257.353842</td>\n",
       "      <td>0.486592</td>\n",
       "      <td>0.836071</td>\n",
       "      <td>14.526497</td>\n",
       "      <td>1.102743</td>\n",
       "      <td>0.806057</td>\n",
       "      <td>49.693429</td>\n",
       "    </tr>\n",
       "    <tr>\n",
       "      <th>min</th>\n",
       "      <td>1.000000</td>\n",
       "      <td>0.000000</td>\n",
       "      <td>1.000000</td>\n",
       "      <td>0.420000</td>\n",
       "      <td>0.000000</td>\n",
       "      <td>0.000000</td>\n",
       "      <td>0.000000</td>\n",
       "    </tr>\n",
       "    <tr>\n",
       "      <th>25%</th>\n",
       "      <td>223.500000</td>\n",
       "      <td>0.000000</td>\n",
       "      <td>2.000000</td>\n",
       "      <td>20.125000</td>\n",
       "      <td>0.000000</td>\n",
       "      <td>0.000000</td>\n",
       "      <td>7.910400</td>\n",
       "    </tr>\n",
       "    <tr>\n",
       "      <th>50%</th>\n",
       "      <td>446.000000</td>\n",
       "      <td>0.000000</td>\n",
       "      <td>3.000000</td>\n",
       "      <td>28.000000</td>\n",
       "      <td>0.000000</td>\n",
       "      <td>0.000000</td>\n",
       "      <td>14.454200</td>\n",
       "    </tr>\n",
       "    <tr>\n",
       "      <th>75%</th>\n",
       "      <td>668.500000</td>\n",
       "      <td>1.000000</td>\n",
       "      <td>3.000000</td>\n",
       "      <td>38.000000</td>\n",
       "      <td>1.000000</td>\n",
       "      <td>0.000000</td>\n",
       "      <td>31.000000</td>\n",
       "    </tr>\n",
       "    <tr>\n",
       "      <th>max</th>\n",
       "      <td>891.000000</td>\n",
       "      <td>1.000000</td>\n",
       "      <td>3.000000</td>\n",
       "      <td>80.000000</td>\n",
       "      <td>8.000000</td>\n",
       "      <td>6.000000</td>\n",
       "      <td>512.329200</td>\n",
       "    </tr>\n",
       "  </tbody>\n",
       "</table>\n",
       "</div>"
      ],
      "text/plain": [
       "       PassengerId    Survived      Pclass         Age       SibSp  \\\n",
       "count   891.000000  891.000000  891.000000  714.000000  891.000000   \n",
       "mean    446.000000    0.383838    2.308642   29.699118    0.523008   \n",
       "std     257.353842    0.486592    0.836071   14.526497    1.102743   \n",
       "min       1.000000    0.000000    1.000000    0.420000    0.000000   \n",
       "25%     223.500000    0.000000    2.000000   20.125000    0.000000   \n",
       "50%     446.000000    0.000000    3.000000   28.000000    0.000000   \n",
       "75%     668.500000    1.000000    3.000000   38.000000    1.000000   \n",
       "max     891.000000    1.000000    3.000000   80.000000    8.000000   \n",
       "\n",
       "            Parch        Fare  \n",
       "count  891.000000  891.000000  \n",
       "mean     0.381594   32.204208  \n",
       "std      0.806057   49.693429  \n",
       "min      0.000000    0.000000  \n",
       "25%      0.000000    7.910400  \n",
       "50%      0.000000   14.454200  \n",
       "75%      0.000000   31.000000  \n",
       "max      6.000000  512.329200  "
      ]
     },
     "execution_count": 2283,
     "metadata": {},
     "output_type": "execute_result"
    }
   ],
   "source": [
    "X.describe()"
   ]
  },
  {
   "cell_type": "code",
   "execution_count": 2284,
   "metadata": {},
   "outputs": [
    {
     "data": {
      "text/html": [
       "<div>\n",
       "<style scoped>\n",
       "    .dataframe tbody tr th:only-of-type {\n",
       "        vertical-align: middle;\n",
       "    }\n",
       "\n",
       "    .dataframe tbody tr th {\n",
       "        vertical-align: top;\n",
       "    }\n",
       "\n",
       "    .dataframe thead th {\n",
       "        text-align: right;\n",
       "    }\n",
       "</style>\n",
       "<table border=\"1\" class=\"dataframe\">\n",
       "  <thead>\n",
       "    <tr style=\"text-align: right;\">\n",
       "      <th></th>\n",
       "      <th>Survived</th>\n",
       "      <th>Pclass</th>\n",
       "      <th>Name</th>\n",
       "      <th>Sex</th>\n",
       "      <th>Age</th>\n",
       "      <th>SibSp</th>\n",
       "      <th>Parch</th>\n",
       "      <th>Fare</th>\n",
       "      <th>Cabin</th>\n",
       "      <th>Embarked</th>\n",
       "    </tr>\n",
       "  </thead>\n",
       "  <tbody>\n",
       "    <tr>\n",
       "      <th>86</th>\n",
       "      <td>0</td>\n",
       "      <td>3</td>\n",
       "      <td>Ford, Mr. William Neal</td>\n",
       "      <td>male</td>\n",
       "      <td>16.00</td>\n",
       "      <td>1</td>\n",
       "      <td>3</td>\n",
       "      <td>34.3750</td>\n",
       "      <td>NaN</td>\n",
       "      <td>S</td>\n",
       "    </tr>\n",
       "    <tr>\n",
       "      <th>28</th>\n",
       "      <td>1</td>\n",
       "      <td>3</td>\n",
       "      <td>O'Dwyer, Miss. Ellen \"Nellie\"</td>\n",
       "      <td>female</td>\n",
       "      <td>NaN</td>\n",
       "      <td>0</td>\n",
       "      <td>0</td>\n",
       "      <td>7.8792</td>\n",
       "      <td>NaN</td>\n",
       "      <td>Q</td>\n",
       "    </tr>\n",
       "    <tr>\n",
       "      <th>305</th>\n",
       "      <td>1</td>\n",
       "      <td>1</td>\n",
       "      <td>Allison, Master. Hudson Trevor</td>\n",
       "      <td>male</td>\n",
       "      <td>0.92</td>\n",
       "      <td>1</td>\n",
       "      <td>2</td>\n",
       "      <td>151.5500</td>\n",
       "      <td>C22 C26</td>\n",
       "      <td>S</td>\n",
       "    </tr>\n",
       "  </tbody>\n",
       "</table>\n",
       "</div>"
      ],
      "text/plain": [
       "     Survived  Pclass                            Name     Sex    Age  SibSp  \\\n",
       "86          0       3          Ford, Mr. William Neal    male  16.00      1   \n",
       "28          1       3   O'Dwyer, Miss. Ellen \"Nellie\"  female    NaN      0   \n",
       "305         1       1  Allison, Master. Hudson Trevor    male   0.92      1   \n",
       "\n",
       "     Parch      Fare    Cabin Embarked  \n",
       "86       3   34.3750      NaN        S  \n",
       "28       0    7.8792      NaN        Q  \n",
       "305      2  151.5500  C22 C26        S  "
      ]
     },
     "execution_count": 2284,
     "metadata": {},
     "output_type": "execute_result"
    }
   ],
   "source": [
    "# Non-useful features\n",
    "X = X.drop(['PassengerId', 'Ticket'], axis=1)\n",
    "X.head(3)"
   ]
  },
  {
   "cell_type": "markdown",
   "metadata": {},
   "source": [
    "### Checking data types"
   ]
  },
  {
   "cell_type": "code",
   "execution_count": 2285,
   "metadata": {},
   "outputs": [
    {
     "name": "stdout",
     "output_type": "stream",
     "text": [
      "{'Survived': dtype('int64'), 'Pclass': dtype('int64'), 'Name': dtype('O'), 'Sex': dtype('O'), 'Age': dtype('float64'), 'SibSp': dtype('int64'), 'Parch': dtype('int64'), 'Fare': dtype('float64'), 'Cabin': dtype('O'), 'Embarked': dtype('O')}\n"
     ]
    }
   ],
   "source": [
    "types = {col: X[col].dtypes for col in X.columns}\n",
    "print(types)"
   ]
  },
  {
   "cell_type": "code",
   "execution_count": 2286,
   "metadata": {},
   "outputs": [
    {
     "name": "stdout",
     "output_type": "stream",
     "text": [
      "Survived [549 342]\n",
      "Pclass [491 216 184]\n",
      "Name [1]\n",
      "Sex [577 314]\n",
      "Age [30 27 26 25 24 23 22 20 18 17 15 14 13 12 11 10  9  8  7  6  5  4  3  2\n",
      "  1]\n",
      "SibSp [608 209  28  18  16   7   5]\n",
      "Parch [678 118  80   5   4   1]\n",
      "Fare [43 42 38 34 31 24 18 16 15 13 12  9  8  7  6  5  4  3  2  1]\n",
      "Cabin [4 3 2 1]\n",
      "Embarked [644 168  77]\n"
     ]
    }
   ],
   "source": [
    "# Checking the number of unique labels in each class\n",
    "for col in X.columns:\n",
    "    print(str(col),X[col].value_counts().unique())"
   ]
  },
  {
   "cell_type": "markdown",
   "metadata": {},
   "source": [
    "### Correllation coefficient heatmap for the features in the training set\n",
    "- "
   ]
  },
  {
   "cell_type": "code",
   "execution_count": 2287,
   "metadata": {},
   "outputs": [
    {
     "data": {
      "text/plain": [
       "<matplotlib.axes._subplots.AxesSubplot at 0x1c6da0cb7f0>"
      ]
     },
     "execution_count": 2287,
     "metadata": {},
     "output_type": "execute_result"
    },
    {
     "data": {
      "image/png": "[encoded data removed]",
      "text/plain": [
       "<Figure size 432x288 with 2 Axes>"
      ]
     },
     "metadata": {
      "needs_background": "light"
     },
     "output_type": "display_data"
    }
   ],
   "source": [
    "features = X.columns\n",
    "sns.heatmap(X[features].corr(), linewidth=0.02, cmap='Greens')"
   ]
  },
  {
   "cell_type": "markdown",
   "metadata": {},
   "source": [
    "### Barplot showing the relationship between each feature and survival\n",
    "- A somewhat strong inverse correlation is observed between Passenger Class and survival - that is, lower class numbers (so 1st class) have higher survival odds, which is to be expected if wealth is favorable to survival odds"
   ]
  },
  {
   "cell_type": "code",
   "execution_count": 2288,
   "metadata": {},
   "outputs": [
    {
     "name": "stdout",
     "output_type": "stream",
     "text": [
      "          Survived\n",
      "Pclass   -0.338481\n",
      "Age      -0.077221\n",
      "SibSp    -0.035322\n",
      "Parch     0.081629\n",
      "Fare      0.257307\n",
      "Survived  1.000000\n"
     ]
    },
    {
     "data": {
      "text/plain": [
       "Text(0, 0.5, 'Correllation coefficient r')"
      ]
     },
     "execution_count": 2288,
     "metadata": {},
     "output_type": "execute_result"
    },
    {
     "data": {
      "image/png": "[encoded data removed]",
      "text/plain": [
       "<Figure size 432x288 with 1 Axes>"
      ]
     },
     "metadata": {
      "needs_background": "light"
     },
     "output_type": "display_data"
    }
   ],
   "source": [
    "corrs = X[features].corr().sort_values('Survived', ascending=True)\n",
    "to_plot = pd.DataFrame(corrs['Survived'], corrs.index)\n",
    "print(to_plot)\n",
    "sns.barplot(x = to_plot.index, y = 'Survived', data=to_plot, palette='winter')\n",
    "sns.despine(left=True, bottom=True)\n",
    "plt.xticks(rotation=25)\n",
    "plt.title('Relationship between the data features and Survival', size=11.5)\n",
    "plt.xlabel('Features', size=11)\n",
    "plt.ylabel('Correllation coefficient r', size=11)"
   ]
  },
  {
   "cell_type": "markdown",
   "metadata": {},
   "source": [
    "### There are large outliers in the 'Fare' feature\n",
    "- Will likely want to deal with them for greater accuracy"
   ]
  },
  {
   "cell_type": "code",
   "execution_count": 2289,
   "metadata": {},
   "outputs": [
    {
     "name": "stdout",
     "output_type": "stream",
     "text": [
      "Age statistics:\n",
      " count    714.000000\n",
      "mean      29.699118\n",
      "std       14.526497\n",
      "min        0.420000\n",
      "25%       20.125000\n",
      "50%       28.000000\n",
      "75%       38.000000\n",
      "max       80.000000\n",
      "Name: Age, dtype: float64 Fare statistics:\n",
      " count    891.000000\n",
      "mean      32.204208\n",
      "std       49.693429\n",
      "min        0.000000\n",
      "25%        7.910400\n",
      "50%       14.454200\n",
      "75%       31.000000\n",
      "max      512.329200\n",
      "Name: Fare, dtype: float64\n"
     ]
    }
   ],
   "source": [
    "print('Age statistics:\\n', X['Age'].describe(), 'Fare statistics:\\n', X['Fare'].describe())"
   ]
  },
  {
   "cell_type": "markdown",
   "metadata": {},
   "source": [
    "## Handling null values\n",
    "- The 'Cabin' feature consists primarily of null values and will need to be dealt with\n",
    "- The missing data in the 'Age' feature will also need to be dealt with\n",
    "- Will simply remove the 2 rows containing missing data in 'Embarked'"
   ]
  },
  {
   "cell_type": "code",
   "execution_count": 2290,
   "metadata": {},
   "outputs": [
    {
     "name": "stdout",
     "output_type": "stream",
     "text": [
      "Survived: 0\n",
      "Pclass: 0\n",
      "Name: 0\n",
      "Sex: 0\n",
      "Age: 177\n",
      "SibSp: 0\n",
      "Parch: 0\n",
      "Fare: 0\n",
      "Cabin: 687\n",
      "Embarked: 2\n"
     ]
    }
   ],
   "source": [
    "for col in X.columns:\n",
    "    print(col + ':', X[col].isnull().sum())"
   ]
  },
  {
   "cell_type": "code",
   "execution_count": 2291,
   "metadata": {},
   "outputs": [],
   "source": [
    "# forward filling the 2 missing values in 'Embarked'\n",
    "X['Embarked'] = X['Embarked'].fillna(method='ffill')"
   ]
  },
  {
   "cell_type": "code",
   "execution_count": 2292,
   "metadata": {},
   "outputs": [
    {
     "name": "stdout",
     "output_type": "stream",
     "text": [
      "Survived: 0\n",
      "Pclass: 0\n",
      "Name: 0\n",
      "Sex: 0\n",
      "Age: 177\n",
      "SibSp: 0\n",
      "Parch: 0\n",
      "Fare: 0\n",
      "Cabin: 687\n",
      "Embarked: 0\n"
     ]
    }
   ],
   "source": [
    "for col in X.columns:\n",
    "    print(col + ':', X[col].isnull().sum())"
   ]
  },
  {
   "cell_type": "markdown",
   "metadata": {},
   "source": [
    "# Linear regression imputation for missing data in the 'Age' feature\n",
    "- The heatmap suggests that the strongest linear relationship exists between 'Age' and 'Fare', and fortunately both variables are continuous. Therefore will use 'Fare' for regression imputation of missing values in 'Age'.\n",
    "- Results from regression imputation look fairly poor - mean absolute error of approximately 11 years, and all values falling within a few years of the mean.\n",
    "- KNN imputation would likely be more effective here"
   ]
  },
  {
   "cell_type": "code",
   "execution_count": 2293,
   "metadata": {},
   "outputs": [
    {
     "name": "stdout",
     "output_type": "stream",
     "text": [
      "[28.99197736 28.9832961  29.16547325 28.78419685 28.98857026 28.97538488\n",
      " 28.97483636 30.27403419 29.39731708 28.98857026 28.99878893 28.98857026\n",
      " 30.10273499 28.99241511 28.99241511 28.99241511 29.5674085  29.60169049] \n",
      "Length: 177 \n",
      "Mean: 29.3685351523232 \n",
      "Min: 28.78419684502346 \n",
      "Max: 34.78420466901207 \n",
      "Std Dev: 0.8381799146193877\n"
     ]
    }
   ],
   "source": [
    "X_lr = X[['Fare', 'Age']].copy()\n",
    "X_lr_missing = X_lr[X_lr['Age'].isnull() == True]\n",
    "X_lr_missing = X_lr_missing.drop('Age', axis=1)\n",
    "X_lr = X_lr.dropna(axis=0)\n",
    "from sklearn.linear_model import LinearRegression\n",
    "lr = LinearRegression()\n",
    "lr.fit(X_lr[['Fare']], X_lr['Age'])\n",
    "predictions = lr.predict(X_lr_missing)\n",
    "print(predictions[:18], '\\nLength:', len(predictions), '\\nMean:', np.mean(predictions), '\\nMin:', np.min(predictions), '\\nMax:', np.max(predictions), '\\nStd Dev:', np.std(predictions))\n"
   ]
  },
  {
   "cell_type": "code",
   "execution_count": 2294,
   "metadata": {},
   "outputs": [
    {
     "name": "stdout",
     "output_type": "stream",
     "text": [
      "MAE: 10.823891685047444 \n",
      "mse: 200.55422573553543 \n",
      "RMSE: 14.16171690634774\n"
     ]
    }
   ],
   "source": [
    "# \n",
    "lr2 = LinearRegression()\n",
    "X_lr2 = X_lr.copy()\n",
    "training = X_lr2[:int(len(X_lr)/2)]\n",
    "testing = X_lr2[int(len(X_lr)/2):]\n",
    "lr2.fit(training[['Fare']], training['Age'])\n",
    "predictions = lr2.predict(testing[['Age']])\n",
    "mae = np.mean(np.abs(predictions - testing['Age'])) # matrix subtraction\n",
    "lr2_mse = mse(predictions, testing['Age'])\n",
    "lr2_rmse = np.sqrt(mse(predictions, testing['Age']))\n",
    "print('MAE:', mae, '\\nmse:', lr2_mse, '\\nRMSE:', lr2_rmse)"
   ]
  },
  {
   "cell_type": "code",
   "execution_count": 2295,
   "metadata": {},
   "outputs": [
    {
     "name": "stdout",
     "output_type": "stream",
     "text": [
      "Equation of the regression line: 28.78419684502346 + 0.026370762878754464 x\n"
     ]
    }
   ],
   "source": [
    "print('Equation of the regression line:', lr.intercept_,'+', float(lr.coef_),'x')"
   ]
  },
  {
   "cell_type": "markdown",
   "metadata": {},
   "source": [
    "# K-Nearest Neighbors Imputation"
   ]
  },
  {
   "cell_type": "code",
   "execution_count": 2296,
   "metadata": {},
   "outputs": [],
   "source": [
    "#def knn_imputation(df, ):"
   ]
  },
  {
   "cell_type": "markdown",
   "metadata": {},
   "source": [
    "### A greater than random proportion of passengers with cabin data survived the Titanic (approx 66.7%) vs those with missing cabin data (approx. 33%)\n",
    "- Thus, the presence of missing data with respect to the Cabin may itself be predictive of passenger survival\n",
    "- Perhaps data was not kept for cheaper cabins. Or perhaps cabin data was not kept for less important passengers"
   ]
  },
  {
   "cell_type": "code",
   "execution_count": 2297,
   "metadata": {},
   "outputs": [
    {
     "name": "stdout",
     "output_type": "stream",
     "text": [
      "1    0.666667\n",
      "0    0.333333\n",
      "Name: Survived, dtype: float64\n"
     ]
    }
   ],
   "source": [
    "cabin_df = X[X['Cabin'].notnull()]\n",
    "# removing the cabin column due to excessive null values\n",
    "print(cabin_df['Survived'].value_counts(normalize=True))"
   ]
  },
  {
   "cell_type": "markdown",
   "metadata": {},
   "source": [
    "# Feature engineering\n",
    "- Creating new feature Cabin_data\n",
    "- Might be worth creating a new feature married/single based on the 'Name' column data, which includes Miss and Mrs titles"
   ]
  },
  {
   "cell_type": "markdown",
   "metadata": {},
   "source": [
    "### def create_cabin_data_col(df):\n",
    "- Creates the new encoded column Cabin_data while dropping the previous 'Cabin' column\n",
    "- 0: Did not have cabin data\n",
    "- 1: Did have cabin data"
   ]
  },
  {
   "cell_type": "code",
   "execution_count": 2298,
   "metadata": {},
   "outputs": [],
   "source": [
    "def create_cabin_data_col(df):\n",
    "    df['Cabin_data'] = df['Cabin']\n",
    "    not_null_cabin_vals = df[df['Cabin'].notnull()]\n",
    "    not_null_cabin_vals = not_null_cabin_vals['Cabin'].values # creates a list of values in cabin to replace\n",
    "    df = df.drop(['Cabin'], axis=1)\n",
    "    df['Cabin_data'] = df['Cabin_data'].replace(np.NaN, 0)\n",
    "    df['Cabin_data'] = df['Cabin_data'].replace(not_null_cabin_vals, value=1)\n",
    "    return df"
   ]
  },
  {
   "cell_type": "code",
   "execution_count": 2299,
   "metadata": {},
   "outputs": [
    {
     "name": "stdout",
     "output_type": "stream",
     "text": [
      "No cabin data available:\n",
      " 0    0.700146\n",
      "1    0.299854\n",
      "Name: Survived, dtype: float64 \n",
      " Cabin data available:\n",
      " 1    0.666667\n",
      "0    0.333333\n",
      "Name: Survived, dtype: float64\n"
     ]
    }
   ],
   "source": [
    "# 1 signifies a passenger which survived the Titanic in the respective cabin data available / not available categories\n",
    "cabin_1 = X[X['Cabin'].notnull()]\n",
    "cabin_0 = X[X['Cabin'].isnull()]\n",
    "print('No cabin data available:\\n', cabin_0['Survived'].value_counts(normalize=True), '\\n', 'Cabin data available:\\n', cabin_1['Survived'].value_counts(normalize=True))"
   ]
  },
  {
   "cell_type": "markdown",
   "metadata": {},
   "source": [
    "### Correllation barplot with the engineered Cabin_data feature\n",
    "- The strongest two positive correlations are between fare price and the engineered Cabin_data feature\n",
    "- While wealth being predictive is not surprising, it is not entirely clear why the engineered feature is predictive"
   ]
  },
  {
   "cell_type": "code",
   "execution_count": 2300,
   "metadata": {},
   "outputs": [
    {
     "data": {
      "text/plain": [
       "Text(0, 0.5, 'Correllation coefficient r')"
      ]
     },
     "execution_count": 2300,
     "metadata": {},
     "output_type": "execute_result"
    },
    {
     "data": {
      "image/png": "[encoded data removed]",
      "text/plain": [
       "<Figure size 432x288 with 1 Axes>"
      ]
     },
     "metadata": {
      "needs_background": "light"
     },
     "output_type": "display_data"
    }
   ],
   "source": [
    "plot_features = X.drop(['Name'], axis=1).columns\n",
    "corrs = X[plot_features].corr().sort_values('Survived', ascending=True)\n",
    "to_plot = pd.DataFrame(corrs['Survived'], corrs.index)\n",
    "sns.barplot(x = to_plot.index, y = 'Survived', data=to_plot, palette='winter')\n",
    "sns.despine(left=True, bottom=True)\n",
    "plt.xticks(rotation=25)\n",
    "plt.title('Relationship between the data features and Survival', size=11.5)\n",
    "plt.xlabel('Features', size=11)\n",
    "plt.ylabel('Correllation coefficient r', size=11)"
   ]
  },
  {
   "cell_type": "code",
   "execution_count": null,
   "metadata": {},
   "outputs": [],
   "source": []
  },
  {
   "cell_type": "markdown",
   "metadata": {},
   "source": [
    "# Creating the Random Forest Classifier model\n",
    "- Using a Random Forest Classifier because the goal is to predict a binary outcome - survived or died - rather than a continuous outcome\n",
    "- Chose a Random Forest model over a logistic regression model as all of the relationships in the data are unlikely to be linear\n",
    "- Will nonetheless compare the results to a logistic regression model at the end"
   ]
  },
  {
   "cell_type": "code",
   "execution_count": 2301,
   "metadata": {},
   "outputs": [],
   "source": [
    "def random_forest(traindf, testdf, features, base_test_df, depth = 15, class_weights = None):\n",
    "    rfc = RandomForestClassifier(max_depth = depth, random_state = 1, class_weight = class_weights)\n",
    "    rfc.fit(traindf[features], traindf[['Survived']])\n",
    "    prediction = rfc.predict(testdf)\n",
    "    #roc_auc = roc_auc_score(testdf['Survived'], prediction)\n",
    "    output = pd.DataFrame({'PassengerId': base_test_df.PassengerId, 'Survived': prediction})\n",
    "    csv = output.to_csv('titanic_prediction.csv', index=False)\n",
    "    return csv"
   ]
  },
  {
   "cell_type": "code",
   "execution_count": 2302,
   "metadata": {},
   "outputs": [
    {
     "name": "stdout",
     "output_type": "stream",
     "text": [
      "(418, 11)\n",
      "(418, 8)\n"
     ]
    }
   ],
   "source": [
    "print(base_test.shape)\n",
    "base_train = base_train.drop(['Name', 'Cabin', 'Ticket'], axis=1).dropna()\n",
    "base_test = base_test.drop(['Name', 'Cabin', 'Ticket'], axis=1) # don't want to dropna for the test df because columns with missing data are being ignored\n",
    "print(base_test.shape)"
   ]
  },
  {
   "cell_type": "code",
   "execution_count": 2303,
   "metadata": {},
   "outputs": [],
   "source": [
    "base_train = pd.get_dummies(base_train)\n",
    "base_test = pd.get_dummies(base_test)"
   ]
  },
  {
   "cell_type": "code",
   "execution_count": 2304,
   "metadata": {},
   "outputs": [
    {
     "name": "stdout",
     "output_type": "stream",
     "text": [
      "(418, 11)\n"
     ]
    }
   ],
   "source": [
    "#print(base_train.shape, base_test.shape)\n",
    "#print(base_test)\n",
    "#print(base_test.PassengerId)\n",
    "print(base_test.shape)"
   ]
  },
  {
   "cell_type": "code",
   "execution_count": 2305,
   "metadata": {},
   "outputs": [
    {
     "name": "stdout",
     "output_type": "stream",
     "text": [
      "['Pclass', 'Sex_female', 'Sex_male', 'SibSp', 'Parch', 'Embarked_C', 'Embarked_Q', 'Embarked_S']\n"
     ]
    }
   ],
   "source": [
    "base_features = base_train.columns\n",
    "base_features = ['Pclass', 'Sex_female', 'Sex_male', 'SibSp', 'Parch', 'Embarked_C', 'Embarked_Q', 'Embarked_S']\n",
    "print(base_features)\n",
    "test_features = ['PassengerId', 'Pclass', 'Sex_female', 'Sex_male', 'SibSp', 'Parch', 'Embarked_C', 'Embarked_Q', 'Embarked_S']\n",
    "base_test_df = base_test[test_features]\n",
    "base_test = base_test[base_features]\n",
    "#print(base_test)"
   ]
  },
  {
   "cell_type": "code",
   "execution_count": 2306,
   "metadata": {},
   "outputs": [
    {
     "name": "stderr",
     "output_type": "stream",
     "text": [
      "C:\\Users\\jcham\\Anaconda3\\lib\\site-packages\\ipykernel_launcher.py:3: DataConversionWarning: A column-vector y was passed when a 1d array was expected. Please change the shape of y to (n_samples,), for example using ravel().\n",
      "  This is separate from the ipykernel package so we can avoid doing imports until\n"
     ]
    },
    {
     "name": "stdout",
     "output_type": "stream",
     "text": [
      "None\n"
     ]
    }
   ],
   "source": [
    "print(random_forest(base_train, base_test, base_features, base_test_df, class_weights = 'balanced'))"
   ]
  },
  {
   "cell_type": "markdown",
   "metadata": {},
   "source": [
    "### transform_features(df):\n",
    "- Transforms the features in the dataframe using the feature engineering, imputation, and dummy variable functions to prepare the dataframes for machine learning"
   ]
  },
  {
   "cell_type": "code",
   "execution_count": 2307,
   "metadata": {},
   "outputs": [],
   "source": [
    "def transform_features(df):\n",
    "    df = create_cabin_data_col(df)"
   ]
  },
  {
   "cell_type": "raw",
   "metadata": {},
   "source": []
  },
  {
   "cell_type": "markdown",
   "metadata": {},
   "source": [
    "## Comparing list-wise deletion vs regression imputation vs KNN imputation"
   ]
  },
  {
   "cell_type": "code",
   "execution_count": null,
   "metadata": {},
   "outputs": [],
   "source": []
  },
  {
   "cell_type": "code",
   "execution_count": null,
   "metadata": {},
   "outputs": [],
   "source": []
  }
 ],
 "metadata": {
  "kernelspec": {
   "display_name": "Python 3",
   "language": "python",
   "name": "python3"
  },
  "language_info": {
   "codemirror_mode": {
    "name": "ipython",
    "version": 3
   },
   "file_extension": ".py",
   "mimetype": "text/x-python",
   "name": "python",
   "nbconvert_exporter": "python",
   "pygments_lexer": "ipython3",
   "version": "3.6.9"
  }
 },
 "nbformat": 4,
 "nbformat_minor": 4
}
